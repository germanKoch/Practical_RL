{
  "cells": [
    {
      "cell_type": "markdown",
      "metadata": {
        "id": "I_i1q1TWG9zH"
      },
      "source": [
        "# Deep Crossentropy method\n",
        "\n",
        "In this section we'll extend your CEM implementation with neural networks! You will train a multi-layer neural network to solve simple continuous state space games. __Please make sure you're done with tabular crossentropy method from the previous notebook.__\n",
        "\n",
        "![img](https://watanimg.elwatannews.com/old_news_images/large/249765_Large_20140709045740_11.jpg)\n",
        "\n"
      ]
    },
    {
      "cell_type": "code",
      "execution_count": 1,
      "metadata": {
        "id": "t4CJ1sRyG9zJ",
        "colab": {
          "base_uri": "https://localhost:8080/",
          "height": 0
        },
        "outputId": "507952a8-733a-47b0-df63-f3fd269eae26"
      },
      "outputs": [
        {
          "output_type": "stream",
          "name": "stdout",
          "text": [
            "Selecting previously unselected package libfontenc1:amd64.\n",
            "(Reading database ... 121920 files and directories currently installed.)\n",
            "Preparing to unpack .../0-libfontenc1_1%3a1.1.4-1build3_amd64.deb ...\n",
            "Unpacking libfontenc1:amd64 (1:1.1.4-1build3) ...\n",
            "Selecting previously unselected package libxfont2:amd64.\n",
            "Preparing to unpack .../1-libxfont2_1%3a2.0.5-1build1_amd64.deb ...\n",
            "Unpacking libxfont2:amd64 (1:2.0.5-1build1) ...\n",
            "Selecting previously unselected package libxkbfile1:amd64.\n",
            "Preparing to unpack .../2-libxkbfile1_1%3a1.1.0-1build3_amd64.deb ...\n",
            "Unpacking libxkbfile1:amd64 (1:1.1.0-1build3) ...\n",
            "Selecting previously unselected package x11-xkb-utils.\n",
            "Preparing to unpack .../3-x11-xkb-utils_7.7+5build4_amd64.deb ...\n",
            "Unpacking x11-xkb-utils (7.7+5build4) ...\n",
            "Selecting previously unselected package xfonts-encodings.\n",
            "Preparing to unpack .../4-xfonts-encodings_1%3a1.0.5-0ubuntu2_all.deb ...\n",
            "Unpacking xfonts-encodings (1:1.0.5-0ubuntu2) ...\n",
            "Selecting previously unselected package xfonts-utils.\n",
            "Preparing to unpack .../5-xfonts-utils_1%3a7.7+6build2_amd64.deb ...\n",
            "Unpacking xfonts-utils (1:7.7+6build2) ...\n",
            "Selecting previously unselected package xfonts-base.\n",
            "Preparing to unpack .../6-xfonts-base_1%3a1.0.5_all.deb ...\n",
            "Unpacking xfonts-base (1:1.0.5) ...\n",
            "Selecting previously unselected package xserver-common.\n",
            "Preparing to unpack .../7-xserver-common_2%3a21.1.4-2ubuntu1.7~22.04.10_all.deb ...\n",
            "Unpacking xserver-common (2:21.1.4-2ubuntu1.7~22.04.10) ...\n",
            "Selecting previously unselected package xvfb.\n",
            "Preparing to unpack .../8-xvfb_2%3a21.1.4-2ubuntu1.7~22.04.10_amd64.deb ...\n",
            "Unpacking xvfb (2:21.1.4-2ubuntu1.7~22.04.10) ...\n",
            "Setting up libfontenc1:amd64 (1:1.1.4-1build3) ...\n",
            "Setting up xfonts-encodings (1:1.0.5-0ubuntu2) ...\n",
            "Setting up libxkbfile1:amd64 (1:1.1.0-1build3) ...\n",
            "Setting up libxfont2:amd64 (1:2.0.5-1build1) ...\n",
            "Setting up x11-xkb-utils (7.7+5build4) ...\n",
            "Setting up xfonts-utils (1:7.7+6build2) ...\n",
            "Setting up xfonts-base (1:1.0.5) ...\n",
            "Setting up xserver-common (2:21.1.4-2ubuntu1.7~22.04.10) ...\n",
            "Setting up xvfb (2:21.1.4-2ubuntu1.7~22.04.10) ...\n",
            "Processing triggers for man-db (2.10.2-1) ...\n",
            "Processing triggers for fontconfig (2.13.1-4.2ubuntu5) ...\n",
            "Processing triggers for libc-bin (2.35-0ubuntu3.4) ...\n",
            "/sbin/ldconfig.real: /usr/local/lib/libtbbbind_2_0.so.3 is not a symbolic link\n",
            "\n",
            "/sbin/ldconfig.real: /usr/local/lib/libtbbmalloc.so.2 is not a symbolic link\n",
            "\n",
            "/sbin/ldconfig.real: /usr/local/lib/libtbbmalloc_proxy.so.2 is not a symbolic link\n",
            "\n",
            "/sbin/ldconfig.real: /usr/local/lib/libtbbbind.so.3 is not a symbolic link\n",
            "\n",
            "/sbin/ldconfig.real: /usr/local/lib/libtbbbind_2_5.so.3 is not a symbolic link\n",
            "\n",
            "/sbin/ldconfig.real: /usr/local/lib/libtbb.so.12 is not a symbolic link\n",
            "\n",
            "Starting virtual X frame buffer: Xvfb.\n"
          ]
        }
      ],
      "source": [
        "import sys, os\n",
        "if 'google.colab' in sys.modules and not os.path.exists('.setup_complete'):\n",
        "    !wget -q https://raw.githubusercontent.com/yandexdataschool/Practical_RL/master/setup_colab.sh -O- | bash\n",
        "    !touch .setup_complete\n",
        "\n",
        "# This code creates a virtual display to draw game images on.\n",
        "# It will have no effect if your machine has a monitor.\n",
        "if type(os.environ.get(\"DISPLAY\")) is not str or len(os.environ.get(\"DISPLAY\")) == 0:\n",
        "    !bash ../xvfb start\n",
        "    os.environ['DISPLAY'] = ':1'"
      ]
    },
    {
      "cell_type": "code",
      "execution_count": 2,
      "metadata": {
        "id": "C2xd5vPwPVCb",
        "colab": {
          "base_uri": "https://localhost:8080/",
          "height": 0
        },
        "outputId": "783a02f3-12b0-4317-8ed8-5b8643311ffd"
      },
      "outputs": [
        {
          "output_type": "stream",
          "name": "stdout",
          "text": [
            "Collecting gymnasium[classic_control,toy_text]\n",
            "  Downloading gymnasium-0.29.1-py3-none-any.whl (953 kB)\n",
            "\u001b[?25l     \u001b[90m━━━━━━━━━━━━━━━━━━━━━━━━━━━━━━━━━━━━━━━━\u001b[0m \u001b[32m0.0/953.9 kB\u001b[0m \u001b[31m?\u001b[0m eta \u001b[36m-:--:--\u001b[0m\r\u001b[2K     \u001b[91m━━━━━━\u001b[0m\u001b[90m╺\u001b[0m\u001b[90m━━━━━━━━━━━━━━━━━━━━━━━━━━━━━━━━━\u001b[0m \u001b[32m143.4/953.9 kB\u001b[0m \u001b[31m4.2 MB/s\u001b[0m eta \u001b[36m0:00:01\u001b[0m\r\u001b[2K     \u001b[91m━━━━━━━━━━━━━━━━━━━━━━\u001b[0m\u001b[90m╺\u001b[0m\u001b[90m━━━━━━━━━━━━━━━━━\u001b[0m \u001b[32m532.5/953.9 kB\u001b[0m \u001b[31m7.6 MB/s\u001b[0m eta \u001b[36m0:00:01\u001b[0m\r\u001b[2K     \u001b[91m━━━━━━━━━━━━━━━━━━━━━━━━━━━━━━━━━━━━━━━\u001b[0m\u001b[91m╸\u001b[0m \u001b[32m952.3/953.9 kB\u001b[0m \u001b[31m8.9 MB/s\u001b[0m eta \u001b[36m0:00:01\u001b[0m\r\u001b[2K     \u001b[90m━━━━━━━━━━━━━━━━━━━━━━━━━━━━━━━━━━━━━━━━\u001b[0m \u001b[32m953.9/953.9 kB\u001b[0m \u001b[31m7.6 MB/s\u001b[0m eta \u001b[36m0:00:00\u001b[0m\n",
            "\u001b[?25hRequirement already satisfied: numpy>=1.21.0 in /usr/local/lib/python3.10/dist-packages (from gymnasium[classic_control,toy_text]) (1.25.2)\n",
            "Requirement already satisfied: cloudpickle>=1.2.0 in /usr/local/lib/python3.10/dist-packages (from gymnasium[classic_control,toy_text]) (2.2.1)\n",
            "Requirement already satisfied: typing-extensions>=4.3.0 in /usr/local/lib/python3.10/dist-packages (from gymnasium[classic_control,toy_text]) (4.11.0)\n",
            "Collecting farama-notifications>=0.0.1 (from gymnasium[classic_control,toy_text])\n",
            "  Downloading Farama_Notifications-0.0.4-py3-none-any.whl (2.5 kB)\n",
            "Requirement already satisfied: pygame>=2.1.3 in /usr/local/lib/python3.10/dist-packages (from gymnasium[classic_control,toy_text]) (2.5.2)\n",
            "Installing collected packages: farama-notifications, gymnasium\n",
            "Successfully installed farama-notifications-0.0.4 gymnasium-0.29.1\n"
          ]
        }
      ],
      "source": [
        "# Install gymnasium if you didn't\n",
        "!pip install gymnasium[toy_text,classic_control]"
      ]
    },
    {
      "cell_type": "code",
      "execution_count": 4,
      "metadata": {
        "id": "_2zbc7ahG9zK",
        "colab": {
          "base_uri": "https://localhost:8080/",
          "height": 431
        },
        "outputId": "61b5829a-6a51-4be3-f74e-f25dbdb1897b"
      },
      "outputs": [
        {
          "output_type": "stream",
          "name": "stdout",
          "text": [
            "state vector dim = 4\n",
            "n_actions = 2\n"
          ]
        },
        {
          "output_type": "display_data",
          "data": {
            "text/plain": [
              "<Figure size 640x480 with 1 Axes>"
            ],
            "image/png": "[encoded data removed]"
          },
          "metadata": {}
        }
      ],
      "source": [
        "import gymnasium as gym\n",
        "import numpy as np\n",
        "import matplotlib.pyplot as plt\n",
        "%matplotlib inline\n",
        "\n",
        "# if you see \"<classname> has no attribute .env\", remove .env or update gym\n",
        "env = gym.make(\"CartPole-v0\", render_mode=\"rgb_array\").env\n",
        "\n",
        "env.reset()\n",
        "n_actions = env.action_space.n\n",
        "state_dim = env.observation_space.shape[0]\n",
        "\n",
        "plt.imshow(env.render())\n",
        "print(\"state vector dim =\", state_dim)\n",
        "print(\"n_actions =\", n_actions)\n",
        "\n",
        "env.close()"
      ]
    },
    {
      "cell_type": "markdown",
      "metadata": {
        "id": "Z72_alhdG9zK"
      },
      "source": [
        "# Neural Network Policy\n",
        "\n",
        "For this assignment we'll utilize the simplified neural network implementation from __[Scikit-learn](https://scikit-learn.org/stable/modules/generated/sklearn.neural_network.MLPClassifier.html)__. Here's what you'll need:\n",
        "\n",
        "* `agent.partial_fit(states, actions)` - make a single training pass over the data. Maximize the probability of :actions: from :states:\n",
        "* `agent.predict_proba(states)` - predict probabilities of all actions, a matrix of shape __[len(states), n_actions]__\n"
      ]
    },
    {
      "cell_type": "code",
      "execution_count": 5,
      "metadata": {
        "id": "wLItY4unG9zL",
        "colab": {
          "base_uri": "https://localhost:8080/",
          "height": 74
        },
        "outputId": "919aad66-04a2-4295-f76a-8a7f6de04c86"
      },
      "outputs": [
        {
          "output_type": "execute_result",
          "data": {
            "text/plain": [
              "MLPClassifier(activation='tanh', hidden_layer_sizes=(20, 20))"
            ],
            "text/html": [
              "<style>#sk-container-id-1 {color: black;background-color: white;}#sk-container-id-1 pre{padding: 0;}#sk-container-id-1 div.sk-toggleable {background-color: white;}#sk-container-id-1 label.sk-toggleable__label {cursor: pointer;display: block;width: 100%;margin-bottom: 0;padding: 0.3em;box-sizing: border-box;text-align: center;}#sk-container-id-1 label.sk-toggleable__label-arrow:before {content: \"▸\";float: left;margin-right: 0.25em;color: #696969;}#sk-container-id-1 label.sk-toggleable__label-arrow:hover:before {color: black;}#sk-container-id-1 div.sk-estimator:hover label.sk-toggleable__label-arrow:before {color: black;}#sk-container-id-1 div.sk-toggleable__content {max-height: 0;max-width: 0;overflow: hidden;text-align: left;background-color: #f0f8ff;}#sk-container-id-1 div.sk-toggleable__content pre {margin: 0.2em;color: black;border-radius: 0.25em;background-color: #f0f8ff;}#sk-container-id-1 input.sk-toggleable__control:checked~div.sk-toggleable__content {max-height: 200px;max-width: 100%;overflow: auto;}#sk-container-id-1 input.sk-toggleable__control:checked~label.sk-toggleable__label-arrow:before {content: \"▾\";}#sk-container-id-1 div.sk-estimator input.sk-toggleable__control:checked~label.sk-toggleable__label {background-color: #d4ebff;}#sk-container-id-1 div.sk-label input.sk-toggleable__control:checked~label.sk-toggleable__label {background-color: #d4ebff;}#sk-container-id-1 input.sk-hidden--visually {border: 0;clip: rect(1px 1px 1px 1px);clip: rect(1px, 1px, 1px, 1px);height: 1px;margin: -1px;overflow: hidden;padding: 0;position: absolute;width: 1px;}#sk-container-id-1 div.sk-estimator {font-family: monospace;background-color: #f0f8ff;border: 1px dotted black;border-radius: 0.25em;box-sizing: border-box;margin-bottom: 0.5em;}#sk-container-id-1 div.sk-estimator:hover {background-color: #d4ebff;}#sk-container-id-1 div.sk-parallel-item::after {content: \"\";width: 100%;border-bottom: 1px solid gray;flex-grow: 1;}#sk-container-id-1 div.sk-label:hover label.sk-toggleable__label {background-color: #d4ebff;}#sk-container-id-1 div.sk-serial::before {content: \"\";position: absolute;border-left: 1px solid gray;box-sizing: border-box;top: 0;bottom: 0;left: 50%;z-index: 0;}#sk-container-id-1 div.sk-serial {display: flex;flex-direction: column;align-items: center;background-color: white;padding-right: 0.2em;padding-left: 0.2em;position: relative;}#sk-container-id-1 div.sk-item {position: relative;z-index: 1;}#sk-container-id-1 div.sk-parallel {display: flex;align-items: stretch;justify-content: center;background-color: white;position: relative;}#sk-container-id-1 div.sk-item::before, #sk-container-id-1 div.sk-parallel-item::before {content: \"\";position: absolute;border-left: 1px solid gray;box-sizing: border-box;top: 0;bottom: 0;left: 50%;z-index: -1;}#sk-container-id-1 div.sk-parallel-item {display: flex;flex-direction: column;z-index: 1;position: relative;background-color: white;}#sk-container-id-1 div.sk-parallel-item:first-child::after {align-self: flex-end;width: 50%;}#sk-container-id-1 div.sk-parallel-item:last-child::after {align-self: flex-start;width: 50%;}#sk-container-id-1 div.sk-parallel-item:only-child::after {width: 0;}#sk-container-id-1 div.sk-dashed-wrapped {border: 1px dashed gray;margin: 0 0.4em 0.5em 0.4em;box-sizing: border-box;padding-bottom: 0.4em;background-color: white;}#sk-container-id-1 div.sk-label label {font-family: monospace;font-weight: bold;display: inline-block;line-height: 1.2em;}#sk-container-id-1 div.sk-label-container {text-align: center;}#sk-container-id-1 div.sk-container {/* jupyter's `normalize.less` sets `[hidden] { display: none; }` but bootstrap.min.css set `[hidden] { display: none !important; }` so we also need the `!important` here to be able to override the default hidden behavior on the sphinx rendered scikit-learn.org. See: https://github.com/scikit-learn/scikit-learn/issues/21755 */display: inline-block !important;position: relative;}#sk-container-id-1 div.sk-text-repr-fallback {display: none;}</style><div id=\"sk-container-id-1\" class=\"sk-top-container\"><div class=\"sk-text-repr-fallback\"><pre>MLPClassifier(activation=&#x27;tanh&#x27;, hidden_layer_sizes=(20, 20))</pre><b>In a Jupyter environment, please rerun this cell to show the HTML representation or trust the notebook. <br />On GitHub, the HTML representation is unable to render, please try loading this page with nbviewer.org.</b></div><div class=\"sk-container\" hidden><div class=\"sk-item\"><div class=\"sk-estimator sk-toggleable\"><input class=\"sk-toggleable__control sk-hidden--visually\" id=\"sk-estimator-id-1\" type=\"checkbox\" checked><label for=\"sk-estimator-id-1\" class=\"sk-toggleable__label sk-toggleable__label-arrow\">MLPClassifier</label><div class=\"sk-toggleable__content\"><pre>MLPClassifier(activation=&#x27;tanh&#x27;, hidden_layer_sizes=(20, 20))</pre></div></div></div></div></div>"
            ]
          },
          "metadata": {},
          "execution_count": 5
        }
      ],
      "source": [
        "from sklearn.neural_network import MLPClassifier\n",
        "\n",
        "agent = MLPClassifier(\n",
        "    hidden_layer_sizes=(20, 20),\n",
        "    activation=\"tanh\",\n",
        ")\n",
        "\n",
        "# initialize agent to the dimension of state space and number of actions\n",
        "agent.partial_fit([env.reset()[0]] * n_actions, range(n_actions), range(n_actions))\n"
      ]
    },
    {
      "cell_type": "code",
      "execution_count": 36,
      "metadata": {
        "id": "eyFS3oUmG9zL"
      },
      "outputs": [],
      "source": [
        "def generate_session(env, agent, t_max=1000):\n",
        "    \"\"\"\n",
        "    Play a single game using agent neural network.\n",
        "    Terminate when game finishes or after :t_max: steps\n",
        "    \"\"\"\n",
        "    states, actions = [], []\n",
        "    total_reward = 0\n",
        "\n",
        "    s, _ = env.reset()\n",
        "\n",
        "    for t in range(t_max):\n",
        "\n",
        "        # use agent to predict a vector of action probabilities for state :s:\n",
        "        probs = agent.predict_proba(s.reshape(1, -1))[0]\n",
        "\n",
        "        assert probs.shape == (env.action_space.n,), \"make sure probabilities are a vector (hint: np.reshape)\"\n",
        "\n",
        "        # use the probabilities you predicted to pick an action\n",
        "        # sample proportionally to the probabilities, don't just take the most likely action\n",
        "        a = np.random.choice(n_actions, p=probs)\n",
        "        # ^-- hint: try np.random.choice\n",
        "\n",
        "        new_s, r, terminated, truncated, _ = env.step(a)\n",
        "\n",
        "        # record sessions like you did before\n",
        "        states.append(s)\n",
        "        actions.append(a)\n",
        "        total_reward += r\n",
        "\n",
        "        s = new_s\n",
        "        if terminated or truncated:\n",
        "            break\n",
        "    return states, actions, total_reward\n"
      ]
    },
    {
      "cell_type": "code",
      "execution_count": 37,
      "metadata": {
        "id": "4xgrTCgJG9zL",
        "colab": {
          "base_uri": "https://localhost:8080/",
          "height": 0
        },
        "outputId": "abe75032-641d-47d1-d20e-c1ddf80f9274"
      },
      "outputs": [
        {
          "output_type": "stream",
          "name": "stdout",
          "text": [
            "states: [[ 0.01754384  0.01584347  0.04532876  0.0021105 ]\n",
            " [ 0.01786071 -0.17989826  0.04537097  0.3087436 ]\n",
            " [ 0.01426274  0.01454884  0.05154584  0.03070759]\n",
            " [ 0.01455372 -0.18127295  0.05215999  0.33919793]\n",
            " [ 0.01092826  0.0130695   0.05894395  0.06340878]]\n",
            "actions: [0, 1, 0, 1, 0]\n",
            "reward: 5.0\n"
          ]
        }
      ],
      "source": [
        "dummy_states, dummy_actions, dummy_reward = generate_session(env, agent, t_max=5)\n",
        "print(\"states:\", np.stack(dummy_states))\n",
        "print(\"actions:\", dummy_actions)\n",
        "print(\"reward:\", dummy_reward)\n"
      ]
    },
    {
      "cell_type": "code",
      "source": [
        "np.percentile([1,2,3], 10)"
      ],
      "metadata": {
        "colab": {
          "base_uri": "https://localhost:8080/",
          "height": 0
        },
        "id": "eGL_eNgXyQWj",
        "outputId": "36bcadb2-04e9-4275-f7ea-a8b1166569c3"
      },
      "execution_count": 39,
      "outputs": [
        {
          "output_type": "execute_result",
          "data": {
            "text/plain": [
              "1.2"
            ]
          },
          "metadata": {},
          "execution_count": 39
        }
      ]
    },
    {
      "cell_type": "markdown",
      "metadata": {
        "id": "p85lt16qG9zL"
      },
      "source": [
        "### CEM steps\n",
        "Deep CEM uses exactly the same strategy as the regular CEM, so you can copy your function code from previous notebook.\n",
        "\n",
        "The only difference is that now each observation is not a number but a `float32` vector."
      ]
    },
    {
      "cell_type": "code",
      "execution_count": 40,
      "metadata": {
        "id": "4On-p7p4G9zL"
      },
      "outputs": [],
      "source": [
        "def select_elites(states_batch, actions_batch, rewards_batch, percentile=50):\n",
        "    \"\"\"\n",
        "    Select states and actions from games that have rewards >= percentile\n",
        "    :param states_batch: list of lists of states, states_batch[session_i][t]\n",
        "    :param actions_batch: list of lists of actions, actions_batch[session_i][t]\n",
        "    :param rewards_batch: list of rewards, rewards_batch[session_i]\n",
        "\n",
        "    :returns: elite_states,elite_actions, both 1D lists of states and respective actions from elite sessions\n",
        "\n",
        "    Please return elite states and actions in their original order\n",
        "    [i.e. sorted by session number and timestep within session]\n",
        "\n",
        "    If you are confused, see examples below. Please don't assume that states are integers\n",
        "    (they will become different later).\n",
        "    \"\"\"\n",
        "    threshold = np.percentile(rewards_batch, percentile)\n",
        "    idx = (np.array(rewards_batch) > threshold).nonzero()[0]\n",
        "\n",
        "    elite_states = [state for index, batch in enumerate(states_batch) if index in idx for state in batch]\n",
        "    elite_actions = [action for index, batch in enumerate(actions_batch) if index in idx for action in batch]\n",
        "\n",
        "    return elite_states, elite_actions\n"
      ]
    },
    {
      "cell_type": "markdown",
      "metadata": {
        "id": "xc40V4DaG9zM"
      },
      "source": [
        "# Training loop\n",
        "Generate sessions, select N best and fit to those."
      ]
    },
    {
      "cell_type": "code",
      "execution_count": 41,
      "metadata": {
        "id": "PPwVKwF7G9zM"
      },
      "outputs": [],
      "source": [
        "from IPython.display import clear_output\n",
        "\n",
        "\n",
        "def show_progress(rewards_batch, log, percentile, reward_range=[-990, +10]):\n",
        "    \"\"\"\n",
        "    A convenience function that displays training progress.\n",
        "    No cool math here, just charts.\n",
        "    \"\"\"\n",
        "\n",
        "    mean_reward = np.mean(rewards_batch)\n",
        "    threshold = np.percentile(rewards_batch, percentile)\n",
        "    log.append([mean_reward, threshold])\n",
        "\n",
        "    clear_output(True)\n",
        "    print(\"mean reward = %.3f, threshold=%.3f\" % (mean_reward, threshold))\n",
        "    plt.figure(figsize=[8, 4])\n",
        "    plt.subplot(1, 2, 1)\n",
        "    plt.plot(list(zip(*log))[0], label=\"Mean rewards\")\n",
        "    plt.plot(list(zip(*log))[1], label=\"Reward thresholds\")\n",
        "    plt.legend()\n",
        "    plt.grid()\n",
        "\n",
        "    plt.subplot(1, 2, 2)\n",
        "    plt.hist(rewards_batch, range=reward_range)\n",
        "    plt.vlines(\n",
        "        [np.percentile(rewards_batch, percentile)],\n",
        "        [0],\n",
        "        [100],\n",
        "        label=\"percentile\",\n",
        "        color=\"red\",\n",
        "    )\n",
        "    plt.legend()\n",
        "    plt.grid()\n",
        "\n",
        "    plt.show()\n"
      ]
    },
    {
      "cell_type": "code",
      "execution_count": 51,
      "metadata": {
        "id": "euK7WRQiG9zM",
        "colab": {
          "base_uri": "https://localhost:8080/",
          "height": 776
        },
        "outputId": "d6dc8e37-7692-435a-9efa-a8acc015cb98"
      },
      "outputs": [
        {
          "output_type": "stream",
          "name": "stdout",
          "text": [
            "mean reward = 234.370, threshold=270.600\n"
          ]
        },
        {
          "output_type": "display_data",
          "data": {
            "text/plain": [
              "<Figure size 800x400 with 2 Axes>"
            ],
            "image/png": "[encoded data removed]"
          },
          "metadata": {}
        },
        {
          "output_type": "stream",
          "name": "stdout",
          "text": [
            "You Win! You may stop training now via KeyboardInterrupt.\n"
          ]
        },
        {
          "output_type": "error",
          "ename": "KeyboardInterrupt",
          "evalue": "",
          "traceback": [
            "\u001b[0;31m---------------------------------------------------------------------------\u001b[0m",
            "\u001b[0;31mKeyboardInterrupt\u001b[0m                         Traceback (most recent call last)",
            "\u001b[0;32m<ipython-input-51-34d8d62a0a9b>\u001b[0m in \u001b[0;36m<cell line: 5>\u001b[0;34m()\u001b[0m\n\u001b[1;32m      5\u001b[0m \u001b[0;32mfor\u001b[0m \u001b[0mi\u001b[0m \u001b[0;32min\u001b[0m \u001b[0mrange\u001b[0m\u001b[0;34m(\u001b[0m\u001b[0;36m100\u001b[0m\u001b[0;34m)\u001b[0m\u001b[0;34m:\u001b[0m\u001b[0;34m\u001b[0m\u001b[0;34m\u001b[0m\u001b[0m\n\u001b[1;32m      6\u001b[0m     \u001b[0;31m# generate new sessions\u001b[0m\u001b[0;34m\u001b[0m\u001b[0;34m\u001b[0m\u001b[0m\n\u001b[0;32m----> 7\u001b[0;31m     \u001b[0msessions\u001b[0m \u001b[0;34m=\u001b[0m \u001b[0;34m[\u001b[0m \u001b[0mgenerate_session\u001b[0m\u001b[0;34m(\u001b[0m\u001b[0menv\u001b[0m\u001b[0;34m,\u001b[0m \u001b[0magent\u001b[0m\u001b[0;34m)\u001b[0m \u001b[0;32mfor\u001b[0m \u001b[0m_\u001b[0m \u001b[0;32min\u001b[0m \u001b[0mrange\u001b[0m\u001b[0;34m(\u001b[0m\u001b[0;36m0\u001b[0m\u001b[0;34m,\u001b[0m \u001b[0mn_sessions\u001b[0m\u001b[0;34m)\u001b[0m \u001b[0;34m]\u001b[0m\u001b[0;34m\u001b[0m\u001b[0;34m\u001b[0m\u001b[0m\n\u001b[0m\u001b[1;32m      8\u001b[0m \u001b[0;34m\u001b[0m\u001b[0m\n\u001b[1;32m      9\u001b[0m     \u001b[0mstates_batch\u001b[0m\u001b[0;34m,\u001b[0m \u001b[0mactions_batch\u001b[0m\u001b[0;34m,\u001b[0m \u001b[0mrewards_batch\u001b[0m \u001b[0;34m=\u001b[0m \u001b[0mmap\u001b[0m\u001b[0;34m(\u001b[0m\u001b[0mlist\u001b[0m\u001b[0;34m,\u001b[0m \u001b[0mzip\u001b[0m\u001b[0;34m(\u001b[0m\u001b[0;34m*\u001b[0m\u001b[0msessions\u001b[0m\u001b[0;34m)\u001b[0m\u001b[0;34m)\u001b[0m\u001b[0;34m\u001b[0m\u001b[0;34m\u001b[0m\u001b[0m\n",
            "\u001b[0;32m<ipython-input-51-34d8d62a0a9b>\u001b[0m in \u001b[0;36m<listcomp>\u001b[0;34m(.0)\u001b[0m\n\u001b[1;32m      5\u001b[0m \u001b[0;32mfor\u001b[0m \u001b[0mi\u001b[0m \u001b[0;32min\u001b[0m \u001b[0mrange\u001b[0m\u001b[0;34m(\u001b[0m\u001b[0;36m100\u001b[0m\u001b[0;34m)\u001b[0m\u001b[0;34m:\u001b[0m\u001b[0;34m\u001b[0m\u001b[0;34m\u001b[0m\u001b[0m\n\u001b[1;32m      6\u001b[0m     \u001b[0;31m# generate new sessions\u001b[0m\u001b[0;34m\u001b[0m\u001b[0;34m\u001b[0m\u001b[0m\n\u001b[0;32m----> 7\u001b[0;31m     \u001b[0msessions\u001b[0m \u001b[0;34m=\u001b[0m \u001b[0;34m[\u001b[0m \u001b[0mgenerate_session\u001b[0m\u001b[0;34m(\u001b[0m\u001b[0menv\u001b[0m\u001b[0;34m,\u001b[0m \u001b[0magent\u001b[0m\u001b[0;34m)\u001b[0m \u001b[0;32mfor\u001b[0m \u001b[0m_\u001b[0m \u001b[0;32min\u001b[0m \u001b[0mrange\u001b[0m\u001b[0;34m(\u001b[0m\u001b[0;36m0\u001b[0m\u001b[0;34m,\u001b[0m \u001b[0mn_sessions\u001b[0m\u001b[0;34m)\u001b[0m \u001b[0;34m]\u001b[0m\u001b[0;34m\u001b[0m\u001b[0;34m\u001b[0m\u001b[0m\n\u001b[0m\u001b[1;32m      8\u001b[0m \u001b[0;34m\u001b[0m\u001b[0m\n\u001b[1;32m      9\u001b[0m     \u001b[0mstates_batch\u001b[0m\u001b[0;34m,\u001b[0m \u001b[0mactions_batch\u001b[0m\u001b[0;34m,\u001b[0m \u001b[0mrewards_batch\u001b[0m \u001b[0;34m=\u001b[0m \u001b[0mmap\u001b[0m\u001b[0;34m(\u001b[0m\u001b[0mlist\u001b[0m\u001b[0;34m,\u001b[0m \u001b[0mzip\u001b[0m\u001b[0;34m(\u001b[0m\u001b[0;34m*\u001b[0m\u001b[0msessions\u001b[0m\u001b[0;34m)\u001b[0m\u001b[0;34m)\u001b[0m\u001b[0;34m\u001b[0m\u001b[0;34m\u001b[0m\u001b[0m\n",
            "\u001b[0;32m<ipython-input-36-cbfc5a2ab30d>\u001b[0m in \u001b[0;36mgenerate_session\u001b[0;34m(env, agent, t_max)\u001b[0m\n\u001b[1;32m     18\u001b[0m         \u001b[0;31m# use the probabilities you predicted to pick an action\u001b[0m\u001b[0;34m\u001b[0m\u001b[0;34m\u001b[0m\u001b[0m\n\u001b[1;32m     19\u001b[0m         \u001b[0;31m# sample proportionally to the probabilities, don't just take the most likely action\u001b[0m\u001b[0;34m\u001b[0m\u001b[0;34m\u001b[0m\u001b[0m\n\u001b[0;32m---> 20\u001b[0;31m         \u001b[0ma\u001b[0m \u001b[0;34m=\u001b[0m \u001b[0mnp\u001b[0m\u001b[0;34m.\u001b[0m\u001b[0mrandom\u001b[0m\u001b[0;34m.\u001b[0m\u001b[0mchoice\u001b[0m\u001b[0;34m(\u001b[0m\u001b[0mn_actions\u001b[0m\u001b[0;34m,\u001b[0m \u001b[0mp\u001b[0m\u001b[0;34m=\u001b[0m\u001b[0mprobs\u001b[0m\u001b[0;34m)\u001b[0m\u001b[0;34m\u001b[0m\u001b[0;34m\u001b[0m\u001b[0m\n\u001b[0m\u001b[1;32m     21\u001b[0m         \u001b[0;31m# ^-- hint: try np.random.choice\u001b[0m\u001b[0;34m\u001b[0m\u001b[0;34m\u001b[0m\u001b[0m\n\u001b[1;32m     22\u001b[0m \u001b[0;34m\u001b[0m\u001b[0m\n",
            "\u001b[0;32mmtrand.pyx\u001b[0m in \u001b[0;36mnumpy.random.mtrand.RandomState.choice\u001b[0;34m()\u001b[0m\n",
            "\u001b[0;32m/usr/local/lib/python3.10/dist-packages/numpy/core/getlimits.py\u001b[0m in \u001b[0;36m__new__\u001b[0;34m(cls, dtype)\u001b[0m\n\u001b[1;32m    484\u001b[0m     \u001b[0;32mdef\u001b[0m \u001b[0m__new__\u001b[0m\u001b[0;34m(\u001b[0m\u001b[0mcls\u001b[0m\u001b[0;34m,\u001b[0m \u001b[0mdtype\u001b[0m\u001b[0;34m)\u001b[0m\u001b[0;34m:\u001b[0m\u001b[0;34m\u001b[0m\u001b[0;34m\u001b[0m\u001b[0m\n\u001b[1;32m    485\u001b[0m         \u001b[0;32mtry\u001b[0m\u001b[0;34m:\u001b[0m\u001b[0;34m\u001b[0m\u001b[0;34m\u001b[0m\u001b[0m\n\u001b[0;32m--> 486\u001b[0;31m             \u001b[0mobj\u001b[0m \u001b[0;34m=\u001b[0m \u001b[0mcls\u001b[0m\u001b[0;34m.\u001b[0m\u001b[0m_finfo_cache\u001b[0m\u001b[0;34m.\u001b[0m\u001b[0mget\u001b[0m\u001b[0;34m(\u001b[0m\u001b[0mdtype\u001b[0m\u001b[0;34m)\u001b[0m  \u001b[0;31m# most common path\u001b[0m\u001b[0;34m\u001b[0m\u001b[0;34m\u001b[0m\u001b[0m\n\u001b[0m\u001b[1;32m    487\u001b[0m             \u001b[0;32mif\u001b[0m \u001b[0mobj\u001b[0m \u001b[0;32mis\u001b[0m \u001b[0;32mnot\u001b[0m \u001b[0;32mNone\u001b[0m\u001b[0;34m:\u001b[0m\u001b[0;34m\u001b[0m\u001b[0;34m\u001b[0m\u001b[0m\n\u001b[1;32m    488\u001b[0m                 \u001b[0;32mreturn\u001b[0m \u001b[0mobj\u001b[0m\u001b[0;34m\u001b[0m\u001b[0;34m\u001b[0m\u001b[0m\n",
            "\u001b[0;31mKeyboardInterrupt\u001b[0m: "
          ]
        }
      ],
      "source": [
        "n_sessions = 100\n",
        "percentile = 70\n",
        "log = []\n",
        "\n",
        "for i in range(100):\n",
        "    # generate new sessions\n",
        "    sessions = [ generate_session(env, agent) for _ in range(0, n_sessions) ]\n",
        "\n",
        "    states_batch, actions_batch, rewards_batch = map(list, zip(*sessions))\n",
        "\n",
        "    elite_states, elite_actions = select_elites(states_batch, actions_batch, rewards_batch)\n",
        "\n",
        "    agent.partial_fit(X=elite_states, y=elite_actions)\n",
        "\n",
        "    show_progress(\n",
        "        rewards_batch, log, percentile, reward_range=[0, np.max(rewards_batch)]\n",
        "    )\n",
        "\n",
        "    if np.mean(rewards_batch) > 190:\n",
        "        print(\"You Win! You may stop training now via KeyboardInterrupt.\")\n"
      ]
    },
    {
      "cell_type": "markdown",
      "metadata": {
        "id": "yeNWKjtsG9zM"
      },
      "source": [
        "# Results"
      ]
    },
    {
      "cell_type": "code",
      "execution_count": 52,
      "metadata": {
        "id": "RJwsWl4kG9zM",
        "colab": {
          "base_uri": "https://localhost:8080/"
        },
        "outputId": "0794055f-135b-4c8d-90a1-d2f9f121376f"
      },
      "outputs": [
        {
          "output_type": "stream",
          "name": "stderr",
          "text": [
            "/usr/local/lib/python3.10/dist-packages/gymnasium/envs/registration.py:513: DeprecationWarning: \u001b[33mWARN: The environment CartPole-v0 is out of date. You should consider upgrading to version `v1`.\u001b[0m\n",
            "  logger.deprecation(\n"
          ]
        },
        {
          "output_type": "stream",
          "name": "stdout",
          "text": [
            "Moviepy - Building video /content/videos/rl-video-episode-0.mp4.\n",
            "Moviepy - Writing video /content/videos/rl-video-episode-0.mp4\n",
            "\n"
          ]
        },
        {
          "output_type": "stream",
          "name": "stderr",
          "text": []
        },
        {
          "output_type": "stream",
          "name": "stdout",
          "text": [
            "Moviepy - Done !\n",
            "Moviepy - video ready /content/videos/rl-video-episode-0.mp4\n",
            "Moviepy - Building video /content/videos/rl-video-episode-1.mp4.\n",
            "Moviepy - Writing video /content/videos/rl-video-episode-1.mp4\n",
            "\n"
          ]
        },
        {
          "output_type": "stream",
          "name": "stderr",
          "text": []
        },
        {
          "output_type": "stream",
          "name": "stdout",
          "text": [
            "Moviepy - Done !\n",
            "Moviepy - video ready /content/videos/rl-video-episode-1.mp4\n",
            "Moviepy - Building video /content/videos/rl-video-episode-2.mp4.\n",
            "Moviepy - Writing video /content/videos/rl-video-episode-2.mp4\n",
            "\n"
          ]
        },
        {
          "output_type": "stream",
          "name": "stderr",
          "text": []
        },
        {
          "output_type": "stream",
          "name": "stdout",
          "text": [
            "Moviepy - Done !\n",
            "Moviepy - video ready /content/videos/rl-video-episode-2.mp4\n",
            "Moviepy - Building video /content/videos/rl-video-episode-3.mp4.\n",
            "Moviepy - Writing video /content/videos/rl-video-episode-3.mp4\n",
            "\n"
          ]
        },
        {
          "output_type": "stream",
          "name": "stderr",
          "text": []
        },
        {
          "output_type": "stream",
          "name": "stdout",
          "text": [
            "Moviepy - Done !\n",
            "Moviepy - video ready /content/videos/rl-video-episode-3.mp4\n",
            "Moviepy - Building video /content/videos/rl-video-episode-4.mp4.\n",
            "Moviepy - Writing video /content/videos/rl-video-episode-4.mp4\n",
            "\n"
          ]
        },
        {
          "output_type": "stream",
          "name": "stderr",
          "text": []
        },
        {
          "output_type": "stream",
          "name": "stdout",
          "text": [
            "Moviepy - Done !\n",
            "Moviepy - video ready /content/videos/rl-video-episode-4.mp4\n",
            "Moviepy - Building video /content/videos/rl-video-episode-5.mp4.\n",
            "Moviepy - Writing video /content/videos/rl-video-episode-5.mp4\n",
            "\n"
          ]
        },
        {
          "output_type": "stream",
          "name": "stderr",
          "text": []
        },
        {
          "output_type": "stream",
          "name": "stdout",
          "text": [
            "Moviepy - Done !\n",
            "Moviepy - video ready /content/videos/rl-video-episode-5.mp4\n",
            "Moviepy - Building video /content/videos/rl-video-episode-6.mp4.\n",
            "Moviepy - Writing video /content/videos/rl-video-episode-6.mp4\n",
            "\n"
          ]
        },
        {
          "output_type": "stream",
          "name": "stderr",
          "text": []
        },
        {
          "output_type": "stream",
          "name": "stdout",
          "text": [
            "Moviepy - Done !\n",
            "Moviepy - video ready /content/videos/rl-video-episode-6.mp4\n",
            "Moviepy - Building video /content/videos/rl-video-episode-7.mp4.\n",
            "Moviepy - Writing video /content/videos/rl-video-episode-7.mp4\n",
            "\n"
          ]
        },
        {
          "output_type": "stream",
          "name": "stderr",
          "text": []
        },
        {
          "output_type": "stream",
          "name": "stdout",
          "text": [
            "Moviepy - Done !\n",
            "Moviepy - video ready /content/videos/rl-video-episode-7.mp4\n",
            "Moviepy - Building video /content/videos/rl-video-episode-8.mp4.\n",
            "Moviepy - Writing video /content/videos/rl-video-episode-8.mp4\n",
            "\n"
          ]
        },
        {
          "output_type": "stream",
          "name": "stderr",
          "text": []
        },
        {
          "output_type": "stream",
          "name": "stdout",
          "text": [
            "Moviepy - Done !\n",
            "Moviepy - video ready /content/videos/rl-video-episode-8.mp4\n",
            "Moviepy - Building video /content/videos/rl-video-episode-9.mp4.\n",
            "Moviepy - Writing video /content/videos/rl-video-episode-9.mp4\n",
            "\n"
          ]
        },
        {
          "output_type": "stream",
          "name": "stderr",
          "text": []
        },
        {
          "output_type": "stream",
          "name": "stdout",
          "text": [
            "Moviepy - Done !\n",
            "Moviepy - video ready /content/videos/rl-video-episode-9.mp4\n",
            "Moviepy - Building video /content/videos/rl-video-episode-10.mp4.\n",
            "Moviepy - Writing video /content/videos/rl-video-episode-10.mp4\n",
            "\n"
          ]
        },
        {
          "output_type": "stream",
          "name": "stderr",
          "text": []
        },
        {
          "output_type": "stream",
          "name": "stdout",
          "text": [
            "Moviepy - Done !\n",
            "Moviepy - video ready /content/videos/rl-video-episode-10.mp4\n",
            "Moviepy - Building video /content/videos/rl-video-episode-11.mp4.\n",
            "Moviepy - Writing video /content/videos/rl-video-episode-11.mp4\n",
            "\n"
          ]
        },
        {
          "output_type": "stream",
          "name": "stderr",
          "text": []
        },
        {
          "output_type": "stream",
          "name": "stdout",
          "text": [
            "Moviepy - Done !\n",
            "Moviepy - video ready /content/videos/rl-video-episode-11.mp4\n",
            "Moviepy - Building video /content/videos/rl-video-episode-12.mp4.\n",
            "Moviepy - Writing video /content/videos/rl-video-episode-12.mp4\n",
            "\n"
          ]
        },
        {
          "output_type": "stream",
          "name": "stderr",
          "text": []
        },
        {
          "output_type": "stream",
          "name": "stdout",
          "text": [
            "Moviepy - Done !\n",
            "Moviepy - video ready /content/videos/rl-video-episode-12.mp4\n",
            "Moviepy - Building video /content/videos/rl-video-episode-13.mp4.\n",
            "Moviepy - Writing video /content/videos/rl-video-episode-13.mp4\n",
            "\n"
          ]
        },
        {
          "output_type": "stream",
          "name": "stderr",
          "text": []
        },
        {
          "output_type": "stream",
          "name": "stdout",
          "text": [
            "Moviepy - Done !\n",
            "Moviepy - video ready /content/videos/rl-video-episode-13.mp4\n",
            "Moviepy - Building video /content/videos/rl-video-episode-14.mp4.\n",
            "Moviepy - Writing video /content/videos/rl-video-episode-14.mp4\n",
            "\n"
          ]
        },
        {
          "output_type": "stream",
          "name": "stderr",
          "text": []
        },
        {
          "output_type": "stream",
          "name": "stdout",
          "text": [
            "Moviepy - Done !\n",
            "Moviepy - video ready /content/videos/rl-video-episode-14.mp4\n",
            "Moviepy - Building video /content/videos/rl-video-episode-15.mp4.\n",
            "Moviepy - Writing video /content/videos/rl-video-episode-15.mp4\n",
            "\n"
          ]
        },
        {
          "output_type": "stream",
          "name": "stderr",
          "text": []
        },
        {
          "output_type": "stream",
          "name": "stdout",
          "text": [
            "Moviepy - Done !\n",
            "Moviepy - video ready /content/videos/rl-video-episode-15.mp4\n",
            "Moviepy - Building video /content/videos/rl-video-episode-16.mp4.\n",
            "Moviepy - Writing video /content/videos/rl-video-episode-16.mp4\n",
            "\n"
          ]
        },
        {
          "output_type": "stream",
          "name": "stderr",
          "text": []
        },
        {
          "output_type": "stream",
          "name": "stdout",
          "text": [
            "Moviepy - Done !\n",
            "Moviepy - video ready /content/videos/rl-video-episode-16.mp4\n",
            "Moviepy - Building video /content/videos/rl-video-episode-17.mp4.\n",
            "Moviepy - Writing video /content/videos/rl-video-episode-17.mp4\n",
            "\n"
          ]
        },
        {
          "output_type": "stream",
          "name": "stderr",
          "text": []
        },
        {
          "output_type": "stream",
          "name": "stdout",
          "text": [
            "Moviepy - Done !\n",
            "Moviepy - video ready /content/videos/rl-video-episode-17.mp4\n",
            "Moviepy - Building video /content/videos/rl-video-episode-18.mp4.\n",
            "Moviepy - Writing video /content/videos/rl-video-episode-18.mp4\n",
            "\n"
          ]
        },
        {
          "output_type": "stream",
          "name": "stderr",
          "text": []
        },
        {
          "output_type": "stream",
          "name": "stdout",
          "text": [
            "Moviepy - Done !\n",
            "Moviepy - video ready /content/videos/rl-video-episode-18.mp4\n",
            "Moviepy - Building video /content/videos/rl-video-episode-19.mp4.\n",
            "Moviepy - Writing video /content/videos/rl-video-episode-19.mp4\n",
            "\n"
          ]
        },
        {
          "output_type": "stream",
          "name": "stderr",
          "text": []
        },
        {
          "output_type": "stream",
          "name": "stdout",
          "text": [
            "Moviepy - Done !\n",
            "Moviepy - video ready /content/videos/rl-video-episode-19.mp4\n",
            "Moviepy - Building video /content/videos/rl-video-episode-20.mp4.\n",
            "Moviepy - Writing video /content/videos/rl-video-episode-20.mp4\n",
            "\n"
          ]
        },
        {
          "output_type": "stream",
          "name": "stderr",
          "text": []
        },
        {
          "output_type": "stream",
          "name": "stdout",
          "text": [
            "Moviepy - Done !\n",
            "Moviepy - video ready /content/videos/rl-video-episode-20.mp4\n",
            "Moviepy - Building video /content/videos/rl-video-episode-21.mp4.\n",
            "Moviepy - Writing video /content/videos/rl-video-episode-21.mp4\n",
            "\n"
          ]
        },
        {
          "output_type": "stream",
          "name": "stderr",
          "text": []
        },
        {
          "output_type": "stream",
          "name": "stdout",
          "text": [
            "Moviepy - Done !\n",
            "Moviepy - video ready /content/videos/rl-video-episode-21.mp4\n",
            "Moviepy - Building video /content/videos/rl-video-episode-22.mp4.\n",
            "Moviepy - Writing video /content/videos/rl-video-episode-22.mp4\n",
            "\n"
          ]
        },
        {
          "output_type": "stream",
          "name": "stderr",
          "text": []
        },
        {
          "output_type": "stream",
          "name": "stdout",
          "text": [
            "Moviepy - Done !\n",
            "Moviepy - video ready /content/videos/rl-video-episode-22.mp4\n",
            "Moviepy - Building video /content/videos/rl-video-episode-23.mp4.\n",
            "Moviepy - Writing video /content/videos/rl-video-episode-23.mp4\n",
            "\n"
          ]
        },
        {
          "output_type": "stream",
          "name": "stderr",
          "text": []
        },
        {
          "output_type": "stream",
          "name": "stdout",
          "text": [
            "Moviepy - Done !\n",
            "Moviepy - video ready /content/videos/rl-video-episode-23.mp4\n",
            "Moviepy - Building video /content/videos/rl-video-episode-24.mp4.\n",
            "Moviepy - Writing video /content/videos/rl-video-episode-24.mp4\n",
            "\n"
          ]
        },
        {
          "output_type": "stream",
          "name": "stderr",
          "text": []
        },
        {
          "output_type": "stream",
          "name": "stdout",
          "text": [
            "Moviepy - Done !\n",
            "Moviepy - video ready /content/videos/rl-video-episode-24.mp4\n",
            "Moviepy - Building video /content/videos/rl-video-episode-25.mp4.\n",
            "Moviepy - Writing video /content/videos/rl-video-episode-25.mp4\n",
            "\n"
          ]
        },
        {
          "output_type": "stream",
          "name": "stderr",
          "text": []
        },
        {
          "output_type": "stream",
          "name": "stdout",
          "text": [
            "Moviepy - Done !\n",
            "Moviepy - video ready /content/videos/rl-video-episode-25.mp4\n",
            "Moviepy - Building video /content/videos/rl-video-episode-26.mp4.\n",
            "Moviepy - Writing video /content/videos/rl-video-episode-26.mp4\n",
            "\n"
          ]
        },
        {
          "output_type": "stream",
          "name": "stderr",
          "text": []
        },
        {
          "output_type": "stream",
          "name": "stdout",
          "text": [
            "Moviepy - Done !\n",
            "Moviepy - video ready /content/videos/rl-video-episode-26.mp4\n",
            "Moviepy - Building video /content/videos/rl-video-episode-27.mp4.\n",
            "Moviepy - Writing video /content/videos/rl-video-episode-27.mp4\n",
            "\n"
          ]
        },
        {
          "output_type": "stream",
          "name": "stderr",
          "text": []
        },
        {
          "output_type": "stream",
          "name": "stdout",
          "text": [
            "Moviepy - Done !\n",
            "Moviepy - video ready /content/videos/rl-video-episode-27.mp4\n",
            "Moviepy - Building video /content/videos/rl-video-episode-28.mp4.\n",
            "Moviepy - Writing video /content/videos/rl-video-episode-28.mp4\n",
            "\n"
          ]
        },
        {
          "output_type": "stream",
          "name": "stderr",
          "text": []
        },
        {
          "output_type": "stream",
          "name": "stdout",
          "text": [
            "Moviepy - Done !\n",
            "Moviepy - video ready /content/videos/rl-video-episode-28.mp4\n",
            "Moviepy - Building video /content/videos/rl-video-episode-29.mp4.\n",
            "Moviepy - Writing video /content/videos/rl-video-episode-29.mp4\n",
            "\n"
          ]
        },
        {
          "output_type": "stream",
          "name": "stderr",
          "text": []
        },
        {
          "output_type": "stream",
          "name": "stdout",
          "text": [
            "Moviepy - Done !\n",
            "Moviepy - video ready /content/videos/rl-video-episode-29.mp4\n",
            "Moviepy - Building video /content/videos/rl-video-episode-30.mp4.\n",
            "Moviepy - Writing video /content/videos/rl-video-episode-30.mp4\n",
            "\n"
          ]
        },
        {
          "output_type": "stream",
          "name": "stderr",
          "text": []
        },
        {
          "output_type": "stream",
          "name": "stdout",
          "text": [
            "Moviepy - Done !\n",
            "Moviepy - video ready /content/videos/rl-video-episode-30.mp4\n",
            "Moviepy - Building video /content/videos/rl-video-episode-31.mp4.\n",
            "Moviepy - Writing video /content/videos/rl-video-episode-31.mp4\n",
            "\n"
          ]
        },
        {
          "output_type": "stream",
          "name": "stderr",
          "text": []
        },
        {
          "output_type": "stream",
          "name": "stdout",
          "text": [
            "Moviepy - Done !\n",
            "Moviepy - video ready /content/videos/rl-video-episode-31.mp4\n",
            "Moviepy - Building video /content/videos/rl-video-episode-32.mp4.\n",
            "Moviepy - Writing video /content/videos/rl-video-episode-32.mp4\n",
            "\n"
          ]
        },
        {
          "output_type": "stream",
          "name": "stderr",
          "text": []
        },
        {
          "output_type": "stream",
          "name": "stdout",
          "text": [
            "Moviepy - Done !\n",
            "Moviepy - video ready /content/videos/rl-video-episode-32.mp4\n",
            "Moviepy - Building video /content/videos/rl-video-episode-33.mp4.\n",
            "Moviepy - Writing video /content/videos/rl-video-episode-33.mp4\n",
            "\n"
          ]
        },
        {
          "output_type": "stream",
          "name": "stderr",
          "text": []
        },
        {
          "output_type": "stream",
          "name": "stdout",
          "text": [
            "Moviepy - Done !\n",
            "Moviepy - video ready /content/videos/rl-video-episode-33.mp4\n",
            "Moviepy - Building video /content/videos/rl-video-episode-34.mp4.\n",
            "Moviepy - Writing video /content/videos/rl-video-episode-34.mp4\n",
            "\n"
          ]
        },
        {
          "output_type": "stream",
          "name": "stderr",
          "text": []
        },
        {
          "output_type": "stream",
          "name": "stdout",
          "text": [
            "Moviepy - Done !\n",
            "Moviepy - video ready /content/videos/rl-video-episode-34.mp4\n",
            "Moviepy - Building video /content/videos/rl-video-episode-35.mp4.\n",
            "Moviepy - Writing video /content/videos/rl-video-episode-35.mp4\n",
            "\n"
          ]
        },
        {
          "output_type": "stream",
          "name": "stderr",
          "text": []
        },
        {
          "output_type": "stream",
          "name": "stdout",
          "text": [
            "Moviepy - Done !\n",
            "Moviepy - video ready /content/videos/rl-video-episode-35.mp4\n",
            "Moviepy - Building video /content/videos/rl-video-episode-36.mp4.\n",
            "Moviepy - Writing video /content/videos/rl-video-episode-36.mp4\n",
            "\n"
          ]
        },
        {
          "output_type": "stream",
          "name": "stderr",
          "text": []
        },
        {
          "output_type": "stream",
          "name": "stdout",
          "text": [
            "Moviepy - Done !\n",
            "Moviepy - video ready /content/videos/rl-video-episode-36.mp4\n",
            "Moviepy - Building video /content/videos/rl-video-episode-37.mp4.\n",
            "Moviepy - Writing video /content/videos/rl-video-episode-37.mp4\n",
            "\n"
          ]
        },
        {
          "output_type": "stream",
          "name": "stderr",
          "text": []
        },
        {
          "output_type": "stream",
          "name": "stdout",
          "text": [
            "Moviepy - Done !\n",
            "Moviepy - video ready /content/videos/rl-video-episode-37.mp4\n",
            "Moviepy - Building video /content/videos/rl-video-episode-38.mp4.\n",
            "Moviepy - Writing video /content/videos/rl-video-episode-38.mp4\n",
            "\n"
          ]
        },
        {
          "output_type": "stream",
          "name": "stderr",
          "text": []
        },
        {
          "output_type": "stream",
          "name": "stdout",
          "text": [
            "Moviepy - Done !\n",
            "Moviepy - video ready /content/videos/rl-video-episode-38.mp4\n",
            "Moviepy - Building video /content/videos/rl-video-episode-39.mp4.\n",
            "Moviepy - Writing video /content/videos/rl-video-episode-39.mp4\n",
            "\n"
          ]
        },
        {
          "output_type": "stream",
          "name": "stderr",
          "text": []
        },
        {
          "output_type": "stream",
          "name": "stdout",
          "text": [
            "Moviepy - Done !\n",
            "Moviepy - video ready /content/videos/rl-video-episode-39.mp4\n",
            "Moviepy - Building video /content/videos/rl-video-episode-40.mp4.\n",
            "Moviepy - Writing video /content/videos/rl-video-episode-40.mp4\n",
            "\n"
          ]
        },
        {
          "output_type": "stream",
          "name": "stderr",
          "text": []
        },
        {
          "output_type": "stream",
          "name": "stdout",
          "text": [
            "Moviepy - Done !\n",
            "Moviepy - video ready /content/videos/rl-video-episode-40.mp4\n",
            "Moviepy - Building video /content/videos/rl-video-episode-41.mp4.\n",
            "Moviepy - Writing video /content/videos/rl-video-episode-41.mp4\n",
            "\n"
          ]
        },
        {
          "output_type": "stream",
          "name": "stderr",
          "text": []
        },
        {
          "output_type": "stream",
          "name": "stdout",
          "text": [
            "Moviepy - Done !\n",
            "Moviepy - video ready /content/videos/rl-video-episode-41.mp4\n",
            "Moviepy - Building video /content/videos/rl-video-episode-42.mp4.\n",
            "Moviepy - Writing video /content/videos/rl-video-episode-42.mp4\n",
            "\n"
          ]
        },
        {
          "output_type": "stream",
          "name": "stderr",
          "text": []
        },
        {
          "output_type": "stream",
          "name": "stdout",
          "text": [
            "Moviepy - Done !\n",
            "Moviepy - video ready /content/videos/rl-video-episode-42.mp4\n",
            "Moviepy - Building video /content/videos/rl-video-episode-43.mp4.\n",
            "Moviepy - Writing video /content/videos/rl-video-episode-43.mp4\n",
            "\n"
          ]
        },
        {
          "output_type": "stream",
          "name": "stderr",
          "text": []
        },
        {
          "output_type": "stream",
          "name": "stdout",
          "text": [
            "Moviepy - Done !\n",
            "Moviepy - video ready /content/videos/rl-video-episode-43.mp4\n",
            "Moviepy - Building video /content/videos/rl-video-episode-44.mp4.\n",
            "Moviepy - Writing video /content/videos/rl-video-episode-44.mp4\n",
            "\n"
          ]
        },
        {
          "output_type": "stream",
          "name": "stderr",
          "text": []
        },
        {
          "output_type": "stream",
          "name": "stdout",
          "text": [
            "Moviepy - Done !\n",
            "Moviepy - video ready /content/videos/rl-video-episode-44.mp4\n",
            "Moviepy - Building video /content/videos/rl-video-episode-45.mp4.\n",
            "Moviepy - Writing video /content/videos/rl-video-episode-45.mp4\n",
            "\n"
          ]
        },
        {
          "output_type": "stream",
          "name": "stderr",
          "text": []
        },
        {
          "output_type": "stream",
          "name": "stdout",
          "text": [
            "Moviepy - Done !\n",
            "Moviepy - video ready /content/videos/rl-video-episode-45.mp4\n",
            "Moviepy - Building video /content/videos/rl-video-episode-46.mp4.\n",
            "Moviepy - Writing video /content/videos/rl-video-episode-46.mp4\n",
            "\n"
          ]
        },
        {
          "output_type": "stream",
          "name": "stderr",
          "text": []
        },
        {
          "output_type": "stream",
          "name": "stdout",
          "text": [
            "Moviepy - Done !\n",
            "Moviepy - video ready /content/videos/rl-video-episode-46.mp4\n",
            "Moviepy - Building video /content/videos/rl-video-episode-47.mp4.\n",
            "Moviepy - Writing video /content/videos/rl-video-episode-47.mp4\n",
            "\n"
          ]
        },
        {
          "output_type": "stream",
          "name": "stderr",
          "text": []
        },
        {
          "output_type": "stream",
          "name": "stdout",
          "text": [
            "Moviepy - Done !\n",
            "Moviepy - video ready /content/videos/rl-video-episode-47.mp4\n",
            "Moviepy - Building video /content/videos/rl-video-episode-48.mp4.\n",
            "Moviepy - Writing video /content/videos/rl-video-episode-48.mp4\n",
            "\n"
          ]
        },
        {
          "output_type": "stream",
          "name": "stderr",
          "text": []
        },
        {
          "output_type": "stream",
          "name": "stdout",
          "text": [
            "Moviepy - Done !\n",
            "Moviepy - video ready /content/videos/rl-video-episode-48.mp4\n",
            "Moviepy - Building video /content/videos/rl-video-episode-49.mp4.\n",
            "Moviepy - Writing video /content/videos/rl-video-episode-49.mp4\n",
            "\n"
          ]
        },
        {
          "output_type": "stream",
          "name": "stderr",
          "text": []
        },
        {
          "output_type": "stream",
          "name": "stdout",
          "text": [
            "Moviepy - Done !\n",
            "Moviepy - video ready /content/videos/rl-video-episode-49.mp4\n",
            "Moviepy - Building video /content/videos/rl-video-episode-50.mp4.\n",
            "Moviepy - Writing video /content/videos/rl-video-episode-50.mp4\n",
            "\n"
          ]
        },
        {
          "output_type": "stream",
          "name": "stderr",
          "text": []
        },
        {
          "output_type": "stream",
          "name": "stdout",
          "text": [
            "Moviepy - Done !\n",
            "Moviepy - video ready /content/videos/rl-video-episode-50.mp4\n",
            "Moviepy - Building video /content/videos/rl-video-episode-51.mp4.\n",
            "Moviepy - Writing video /content/videos/rl-video-episode-51.mp4\n",
            "\n"
          ]
        },
        {
          "output_type": "stream",
          "name": "stderr",
          "text": []
        },
        {
          "output_type": "stream",
          "name": "stdout",
          "text": [
            "Moviepy - Done !\n",
            "Moviepy - video ready /content/videos/rl-video-episode-51.mp4\n",
            "Moviepy - Building video /content/videos/rl-video-episode-52.mp4.\n",
            "Moviepy - Writing video /content/videos/rl-video-episode-52.mp4\n",
            "\n"
          ]
        },
        {
          "output_type": "stream",
          "name": "stderr",
          "text": []
        },
        {
          "output_type": "stream",
          "name": "stdout",
          "text": [
            "Moviepy - Done !\n",
            "Moviepy - video ready /content/videos/rl-video-episode-52.mp4\n",
            "Moviepy - Building video /content/videos/rl-video-episode-53.mp4.\n",
            "Moviepy - Writing video /content/videos/rl-video-episode-53.mp4\n",
            "\n"
          ]
        },
        {
          "output_type": "stream",
          "name": "stderr",
          "text": []
        },
        {
          "output_type": "stream",
          "name": "stdout",
          "text": [
            "Moviepy - Done !\n",
            "Moviepy - video ready /content/videos/rl-video-episode-53.mp4\n",
            "Moviepy - Building video /content/videos/rl-video-episode-54.mp4.\n",
            "Moviepy - Writing video /content/videos/rl-video-episode-54.mp4\n",
            "\n"
          ]
        },
        {
          "output_type": "stream",
          "name": "stderr",
          "text": []
        },
        {
          "output_type": "stream",
          "name": "stdout",
          "text": [
            "Moviepy - Done !\n",
            "Moviepy - video ready /content/videos/rl-video-episode-54.mp4\n",
            "Moviepy - Building video /content/videos/rl-video-episode-55.mp4.\n",
            "Moviepy - Writing video /content/videos/rl-video-episode-55.mp4\n",
            "\n"
          ]
        },
        {
          "output_type": "stream",
          "name": "stderr",
          "text": []
        },
        {
          "output_type": "stream",
          "name": "stdout",
          "text": [
            "Moviepy - Done !\n",
            "Moviepy - video ready /content/videos/rl-video-episode-55.mp4\n",
            "Moviepy - Building video /content/videos/rl-video-episode-56.mp4.\n",
            "Moviepy - Writing video /content/videos/rl-video-episode-56.mp4\n",
            "\n"
          ]
        },
        {
          "output_type": "stream",
          "name": "stderr",
          "text": []
        },
        {
          "output_type": "stream",
          "name": "stdout",
          "text": [
            "Moviepy - Done !\n",
            "Moviepy - video ready /content/videos/rl-video-episode-56.mp4\n",
            "Moviepy - Building video /content/videos/rl-video-episode-57.mp4.\n",
            "Moviepy - Writing video /content/videos/rl-video-episode-57.mp4\n",
            "\n"
          ]
        },
        {
          "output_type": "stream",
          "name": "stderr",
          "text": []
        },
        {
          "output_type": "stream",
          "name": "stdout",
          "text": [
            "Moviepy - Done !\n",
            "Moviepy - video ready /content/videos/rl-video-episode-57.mp4\n",
            "Moviepy - Building video /content/videos/rl-video-episode-58.mp4.\n",
            "Moviepy - Writing video /content/videos/rl-video-episode-58.mp4\n",
            "\n"
          ]
        },
        {
          "output_type": "stream",
          "name": "stderr",
          "text": []
        },
        {
          "output_type": "stream",
          "name": "stdout",
          "text": [
            "Moviepy - Done !\n",
            "Moviepy - video ready /content/videos/rl-video-episode-58.mp4\n",
            "Moviepy - Building video /content/videos/rl-video-episode-59.mp4.\n",
            "Moviepy - Writing video /content/videos/rl-video-episode-59.mp4\n",
            "\n"
          ]
        },
        {
          "output_type": "stream",
          "name": "stderr",
          "text": []
        },
        {
          "output_type": "stream",
          "name": "stdout",
          "text": [
            "Moviepy - Done !\n",
            "Moviepy - video ready /content/videos/rl-video-episode-59.mp4\n",
            "Moviepy - Building video /content/videos/rl-video-episode-60.mp4.\n",
            "Moviepy - Writing video /content/videos/rl-video-episode-60.mp4\n",
            "\n"
          ]
        },
        {
          "output_type": "stream",
          "name": "stderr",
          "text": []
        },
        {
          "output_type": "stream",
          "name": "stdout",
          "text": [
            "Moviepy - Done !\n",
            "Moviepy - video ready /content/videos/rl-video-episode-60.mp4\n",
            "Moviepy - Building video /content/videos/rl-video-episode-61.mp4.\n",
            "Moviepy - Writing video /content/videos/rl-video-episode-61.mp4\n",
            "\n"
          ]
        },
        {
          "output_type": "stream",
          "name": "stderr",
          "text": []
        },
        {
          "output_type": "stream",
          "name": "stdout",
          "text": [
            "Moviepy - Done !\n",
            "Moviepy - video ready /content/videos/rl-video-episode-61.mp4\n",
            "Moviepy - Building video /content/videos/rl-video-episode-62.mp4.\n",
            "Moviepy - Writing video /content/videos/rl-video-episode-62.mp4\n",
            "\n"
          ]
        },
        {
          "output_type": "stream",
          "name": "stderr",
          "text": []
        },
        {
          "output_type": "stream",
          "name": "stdout",
          "text": [
            "Moviepy - Done !\n",
            "Moviepy - video ready /content/videos/rl-video-episode-62.mp4\n",
            "Moviepy - Building video /content/videos/rl-video-episode-63.mp4.\n",
            "Moviepy - Writing video /content/videos/rl-video-episode-63.mp4\n",
            "\n"
          ]
        },
        {
          "output_type": "stream",
          "name": "stderr",
          "text": []
        },
        {
          "output_type": "stream",
          "name": "stdout",
          "text": [
            "Moviepy - Done !\n",
            "Moviepy - video ready /content/videos/rl-video-episode-63.mp4\n",
            "Moviepy - Building video /content/videos/rl-video-episode-64.mp4.\n",
            "Moviepy - Writing video /content/videos/rl-video-episode-64.mp4\n",
            "\n"
          ]
        },
        {
          "output_type": "stream",
          "name": "stderr",
          "text": []
        },
        {
          "output_type": "stream",
          "name": "stdout",
          "text": [
            "Moviepy - Done !\n",
            "Moviepy - video ready /content/videos/rl-video-episode-64.mp4\n",
            "Moviepy - Building video /content/videos/rl-video-episode-65.mp4.\n",
            "Moviepy - Writing video /content/videos/rl-video-episode-65.mp4\n",
            "\n"
          ]
        },
        {
          "output_type": "stream",
          "name": "stderr",
          "text": []
        },
        {
          "output_type": "stream",
          "name": "stdout",
          "text": [
            "Moviepy - Done !\n",
            "Moviepy - video ready /content/videos/rl-video-episode-65.mp4\n",
            "Moviepy - Building video /content/videos/rl-video-episode-66.mp4.\n",
            "Moviepy - Writing video /content/videos/rl-video-episode-66.mp4\n",
            "\n"
          ]
        },
        {
          "output_type": "stream",
          "name": "stderr",
          "text": []
        },
        {
          "output_type": "stream",
          "name": "stdout",
          "text": [
            "Moviepy - Done !\n",
            "Moviepy - video ready /content/videos/rl-video-episode-66.mp4\n",
            "Moviepy - Building video /content/videos/rl-video-episode-67.mp4.\n",
            "Moviepy - Writing video /content/videos/rl-video-episode-67.mp4\n",
            "\n"
          ]
        },
        {
          "output_type": "stream",
          "name": "stderr",
          "text": []
        },
        {
          "output_type": "stream",
          "name": "stdout",
          "text": [
            "Moviepy - Done !\n",
            "Moviepy - video ready /content/videos/rl-video-episode-67.mp4\n",
            "Moviepy - Building video /content/videos/rl-video-episode-68.mp4.\n",
            "Moviepy - Writing video /content/videos/rl-video-episode-68.mp4\n",
            "\n"
          ]
        },
        {
          "output_type": "stream",
          "name": "stderr",
          "text": []
        },
        {
          "output_type": "stream",
          "name": "stdout",
          "text": [
            "Moviepy - Done !\n",
            "Moviepy - video ready /content/videos/rl-video-episode-68.mp4\n",
            "Moviepy - Building video /content/videos/rl-video-episode-69.mp4.\n",
            "Moviepy - Writing video /content/videos/rl-video-episode-69.mp4\n",
            "\n"
          ]
        },
        {
          "output_type": "stream",
          "name": "stderr",
          "text": []
        },
        {
          "output_type": "stream",
          "name": "stdout",
          "text": [
            "Moviepy - Done !\n",
            "Moviepy - video ready /content/videos/rl-video-episode-69.mp4\n",
            "Moviepy - Building video /content/videos/rl-video-episode-70.mp4.\n",
            "Moviepy - Writing video /content/videos/rl-video-episode-70.mp4\n",
            "\n"
          ]
        },
        {
          "output_type": "stream",
          "name": "stderr",
          "text": []
        },
        {
          "output_type": "stream",
          "name": "stdout",
          "text": [
            "Moviepy - Done !\n",
            "Moviepy - video ready /content/videos/rl-video-episode-70.mp4\n",
            "Moviepy - Building video /content/videos/rl-video-episode-71.mp4.\n",
            "Moviepy - Writing video /content/videos/rl-video-episode-71.mp4\n",
            "\n"
          ]
        },
        {
          "output_type": "stream",
          "name": "stderr",
          "text": []
        },
        {
          "output_type": "stream",
          "name": "stdout",
          "text": [
            "Moviepy - Done !\n",
            "Moviepy - video ready /content/videos/rl-video-episode-71.mp4\n",
            "Moviepy - Building video /content/videos/rl-video-episode-72.mp4.\n",
            "Moviepy - Writing video /content/videos/rl-video-episode-72.mp4\n",
            "\n"
          ]
        },
        {
          "output_type": "stream",
          "name": "stderr",
          "text": []
        },
        {
          "output_type": "stream",
          "name": "stdout",
          "text": [
            "Moviepy - Done !\n",
            "Moviepy - video ready /content/videos/rl-video-episode-72.mp4\n",
            "Moviepy - Building video /content/videos/rl-video-episode-73.mp4.\n",
            "Moviepy - Writing video /content/videos/rl-video-episode-73.mp4\n",
            "\n"
          ]
        },
        {
          "output_type": "stream",
          "name": "stderr",
          "text": []
        },
        {
          "output_type": "stream",
          "name": "stdout",
          "text": [
            "Moviepy - Done !\n",
            "Moviepy - video ready /content/videos/rl-video-episode-73.mp4\n",
            "Moviepy - Building video /content/videos/rl-video-episode-74.mp4.\n",
            "Moviepy - Writing video /content/videos/rl-video-episode-74.mp4\n",
            "\n"
          ]
        },
        {
          "output_type": "stream",
          "name": "stderr",
          "text": []
        },
        {
          "output_type": "stream",
          "name": "stdout",
          "text": [
            "Moviepy - Done !\n",
            "Moviepy - video ready /content/videos/rl-video-episode-74.mp4\n",
            "Moviepy - Building video /content/videos/rl-video-episode-75.mp4.\n",
            "Moviepy - Writing video /content/videos/rl-video-episode-75.mp4\n",
            "\n"
          ]
        },
        {
          "output_type": "stream",
          "name": "stderr",
          "text": []
        },
        {
          "output_type": "stream",
          "name": "stdout",
          "text": [
            "Moviepy - Done !\n",
            "Moviepy - video ready /content/videos/rl-video-episode-75.mp4\n",
            "Moviepy - Building video /content/videos/rl-video-episode-76.mp4.\n",
            "Moviepy - Writing video /content/videos/rl-video-episode-76.mp4\n",
            "\n"
          ]
        },
        {
          "output_type": "stream",
          "name": "stderr",
          "text": []
        },
        {
          "output_type": "stream",
          "name": "stdout",
          "text": [
            "Moviepy - Done !\n",
            "Moviepy - video ready /content/videos/rl-video-episode-76.mp4\n",
            "Moviepy - Building video /content/videos/rl-video-episode-77.mp4.\n",
            "Moviepy - Writing video /content/videos/rl-video-episode-77.mp4\n",
            "\n"
          ]
        },
        {
          "output_type": "stream",
          "name": "stderr",
          "text": []
        },
        {
          "output_type": "stream",
          "name": "stdout",
          "text": [
            "Moviepy - Done !\n",
            "Moviepy - video ready /content/videos/rl-video-episode-77.mp4\n",
            "Moviepy - Building video /content/videos/rl-video-episode-78.mp4.\n",
            "Moviepy - Writing video /content/videos/rl-video-episode-78.mp4\n",
            "\n"
          ]
        },
        {
          "output_type": "stream",
          "name": "stderr",
          "text": []
        },
        {
          "output_type": "stream",
          "name": "stdout",
          "text": [
            "Moviepy - Done !\n",
            "Moviepy - video ready /content/videos/rl-video-episode-78.mp4\n",
            "Moviepy - Building video /content/videos/rl-video-episode-79.mp4.\n",
            "Moviepy - Writing video /content/videos/rl-video-episode-79.mp4\n",
            "\n"
          ]
        },
        {
          "output_type": "stream",
          "name": "stderr",
          "text": []
        },
        {
          "output_type": "stream",
          "name": "stdout",
          "text": [
            "Moviepy - Done !\n",
            "Moviepy - video ready /content/videos/rl-video-episode-79.mp4\n",
            "Moviepy - Building video /content/videos/rl-video-episode-80.mp4.\n",
            "Moviepy - Writing video /content/videos/rl-video-episode-80.mp4\n",
            "\n"
          ]
        },
        {
          "output_type": "stream",
          "name": "stderr",
          "text": []
        },
        {
          "output_type": "stream",
          "name": "stdout",
          "text": [
            "Moviepy - Done !\n",
            "Moviepy - video ready /content/videos/rl-video-episode-80.mp4\n",
            "Moviepy - Building video /content/videos/rl-video-episode-81.mp4.\n",
            "Moviepy - Writing video /content/videos/rl-video-episode-81.mp4\n",
            "\n"
          ]
        },
        {
          "output_type": "stream",
          "name": "stderr",
          "text": []
        },
        {
          "output_type": "stream",
          "name": "stdout",
          "text": [
            "Moviepy - Done !\n",
            "Moviepy - video ready /content/videos/rl-video-episode-81.mp4\n",
            "Moviepy - Building video /content/videos/rl-video-episode-82.mp4.\n",
            "Moviepy - Writing video /content/videos/rl-video-episode-82.mp4\n",
            "\n"
          ]
        },
        {
          "output_type": "stream",
          "name": "stderr",
          "text": []
        },
        {
          "output_type": "stream",
          "name": "stdout",
          "text": [
            "Moviepy - Done !\n",
            "Moviepy - video ready /content/videos/rl-video-episode-82.mp4\n",
            "Moviepy - Building video /content/videos/rl-video-episode-83.mp4.\n",
            "Moviepy - Writing video /content/videos/rl-video-episode-83.mp4\n",
            "\n"
          ]
        },
        {
          "output_type": "stream",
          "name": "stderr",
          "text": []
        },
        {
          "output_type": "stream",
          "name": "stdout",
          "text": [
            "Moviepy - Done !\n",
            "Moviepy - video ready /content/videos/rl-video-episode-83.mp4\n",
            "Moviepy - Building video /content/videos/rl-video-episode-84.mp4.\n",
            "Moviepy - Writing video /content/videos/rl-video-episode-84.mp4\n",
            "\n"
          ]
        },
        {
          "output_type": "stream",
          "name": "stderr",
          "text": []
        },
        {
          "output_type": "stream",
          "name": "stdout",
          "text": [
            "Moviepy - Done !\n",
            "Moviepy - video ready /content/videos/rl-video-episode-84.mp4\n",
            "Moviepy - Building video /content/videos/rl-video-episode-85.mp4.\n",
            "Moviepy - Writing video /content/videos/rl-video-episode-85.mp4\n",
            "\n"
          ]
        },
        {
          "output_type": "stream",
          "name": "stderr",
          "text": []
        },
        {
          "output_type": "stream",
          "name": "stdout",
          "text": [
            "Moviepy - Done !\n",
            "Moviepy - video ready /content/videos/rl-video-episode-85.mp4\n",
            "Moviepy - Building video /content/videos/rl-video-episode-86.mp4.\n",
            "Moviepy - Writing video /content/videos/rl-video-episode-86.mp4\n",
            "\n"
          ]
        },
        {
          "output_type": "stream",
          "name": "stderr",
          "text": []
        },
        {
          "output_type": "stream",
          "name": "stdout",
          "text": [
            "Moviepy - Done !\n",
            "Moviepy - video ready /content/videos/rl-video-episode-86.mp4\n",
            "Moviepy - Building video /content/videos/rl-video-episode-87.mp4.\n",
            "Moviepy - Writing video /content/videos/rl-video-episode-87.mp4\n",
            "\n"
          ]
        },
        {
          "output_type": "stream",
          "name": "stderr",
          "text": []
        },
        {
          "output_type": "stream",
          "name": "stdout",
          "text": [
            "Moviepy - Done !\n",
            "Moviepy - video ready /content/videos/rl-video-episode-87.mp4\n",
            "Moviepy - Building video /content/videos/rl-video-episode-88.mp4.\n",
            "Moviepy - Writing video /content/videos/rl-video-episode-88.mp4\n",
            "\n"
          ]
        },
        {
          "output_type": "stream",
          "name": "stderr",
          "text": []
        },
        {
          "output_type": "stream",
          "name": "stdout",
          "text": [
            "Moviepy - Done !\n",
            "Moviepy - video ready /content/videos/rl-video-episode-88.mp4\n",
            "Moviepy - Building video /content/videos/rl-video-episode-89.mp4.\n",
            "Moviepy - Writing video /content/videos/rl-video-episode-89.mp4\n",
            "\n"
          ]
        },
        {
          "output_type": "stream",
          "name": "stderr",
          "text": []
        },
        {
          "output_type": "stream",
          "name": "stdout",
          "text": [
            "Moviepy - Done !\n",
            "Moviepy - video ready /content/videos/rl-video-episode-89.mp4\n",
            "Moviepy - Building video /content/videos/rl-video-episode-90.mp4.\n",
            "Moviepy - Writing video /content/videos/rl-video-episode-90.mp4\n",
            "\n"
          ]
        },
        {
          "output_type": "stream",
          "name": "stderr",
          "text": []
        },
        {
          "output_type": "stream",
          "name": "stdout",
          "text": [
            "Moviepy - Done !\n",
            "Moviepy - video ready /content/videos/rl-video-episode-90.mp4\n",
            "Moviepy - Building video /content/videos/rl-video-episode-91.mp4.\n",
            "Moviepy - Writing video /content/videos/rl-video-episode-91.mp4\n",
            "\n"
          ]
        },
        {
          "output_type": "stream",
          "name": "stderr",
          "text": []
        },
        {
          "output_type": "stream",
          "name": "stdout",
          "text": [
            "Moviepy - Done !\n",
            "Moviepy - video ready /content/videos/rl-video-episode-91.mp4\n",
            "Moviepy - Building video /content/videos/rl-video-episode-92.mp4.\n",
            "Moviepy - Writing video /content/videos/rl-video-episode-92.mp4\n",
            "\n"
          ]
        },
        {
          "output_type": "stream",
          "name": "stderr",
          "text": []
        },
        {
          "output_type": "stream",
          "name": "stdout",
          "text": [
            "Moviepy - Done !\n",
            "Moviepy - video ready /content/videos/rl-video-episode-92.mp4\n",
            "Moviepy - Building video /content/videos/rl-video-episode-93.mp4.\n",
            "Moviepy - Writing video /content/videos/rl-video-episode-93.mp4\n",
            "\n"
          ]
        },
        {
          "output_type": "stream",
          "name": "stderr",
          "text": []
        },
        {
          "output_type": "stream",
          "name": "stdout",
          "text": [
            "Moviepy - Done !\n",
            "Moviepy - video ready /content/videos/rl-video-episode-93.mp4\n",
            "Moviepy - Building video /content/videos/rl-video-episode-94.mp4.\n",
            "Moviepy - Writing video /content/videos/rl-video-episode-94.mp4\n",
            "\n"
          ]
        },
        {
          "output_type": "stream",
          "name": "stderr",
          "text": []
        },
        {
          "output_type": "stream",
          "name": "stdout",
          "text": [
            "Moviepy - Done !\n",
            "Moviepy - video ready /content/videos/rl-video-episode-94.mp4\n",
            "Moviepy - Building video /content/videos/rl-video-episode-95.mp4.\n",
            "Moviepy - Writing video /content/videos/rl-video-episode-95.mp4\n",
            "\n"
          ]
        },
        {
          "output_type": "stream",
          "name": "stderr",
          "text": []
        },
        {
          "output_type": "stream",
          "name": "stdout",
          "text": [
            "Moviepy - Done !\n",
            "Moviepy - video ready /content/videos/rl-video-episode-95.mp4\n",
            "Moviepy - Building video /content/videos/rl-video-episode-96.mp4.\n",
            "Moviepy - Writing video /content/videos/rl-video-episode-96.mp4\n",
            "\n"
          ]
        },
        {
          "output_type": "stream",
          "name": "stderr",
          "text": []
        },
        {
          "output_type": "stream",
          "name": "stdout",
          "text": [
            "Moviepy - Done !\n",
            "Moviepy - video ready /content/videos/rl-video-episode-96.mp4\n",
            "Moviepy - Building video /content/videos/rl-video-episode-97.mp4.\n",
            "Moviepy - Writing video /content/videos/rl-video-episode-97.mp4\n",
            "\n"
          ]
        },
        {
          "output_type": "stream",
          "name": "stderr",
          "text": []
        },
        {
          "output_type": "stream",
          "name": "stdout",
          "text": [
            "Moviepy - Done !\n",
            "Moviepy - video ready /content/videos/rl-video-episode-97.mp4\n",
            "Moviepy - Building video /content/videos/rl-video-episode-98.mp4.\n",
            "Moviepy - Writing video /content/videos/rl-video-episode-98.mp4\n",
            "\n"
          ]
        },
        {
          "output_type": "stream",
          "name": "stderr",
          "text": []
        },
        {
          "output_type": "stream",
          "name": "stdout",
          "text": [
            "Moviepy - Done !\n",
            "Moviepy - video ready /content/videos/rl-video-episode-98.mp4\n",
            "Moviepy - Building video /content/videos/rl-video-episode-99.mp4.\n",
            "Moviepy - Writing video /content/videos/rl-video-episode-99.mp4\n",
            "\n"
          ]
        },
        {
          "output_type": "stream",
          "name": "stderr",
          "text": []
        },
        {
          "output_type": "stream",
          "name": "stdout",
          "text": [
            "Moviepy - Done !\n",
            "Moviepy - video ready /content/videos/rl-video-episode-99.mp4\n"
          ]
        }
      ],
      "source": [
        "# Record sessions\n",
        "\n",
        "from gymnasium.wrappers import RecordVideo\n",
        "\n",
        "with RecordVideo(\n",
        "    env=gym.make(\"CartPole-v0\", render_mode=\"rgb_array\"),\n",
        "    video_folder=\"./videos\",\n",
        "    episode_trigger=lambda episode_number: True,\n",
        ") as env_monitor:\n",
        "    sessions = [generate_session(env_monitor, agent) for _ in range(100)]\n"
      ]
    },
    {
      "cell_type": "code",
      "execution_count": 53,
      "metadata": {
        "id": "kLPXdME7G9zN",
        "colab": {
          "base_uri": "https://localhost:8080/",
          "height": 502
        },
        "outputId": "8cc0ccbc-ceb5-44a9-89bf-33441db81b0f"
      },
      "outputs": [
        {
          "output_type": "execute_result",
          "data": {
            "text/plain": [
              "<IPython.core.display.HTML object>"
            ],
            "text/html": [
              "\n",
              "<video width=\"640\" height=\"480\" controls>\n",
              "  <source src=\"data:video/mp4;base64,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\" type=\"video/mp4\">\n",
              "</video>\n"
            ]
          },
          "metadata": {},
          "execution_count": 53
        }
      ],
      "source": [
        "# Show video. This may not work in some setups. If it doesn't\n",
        "# work for you, you can download the videos and view them locally.\n",
        "\n",
        "from pathlib import Path\n",
        "from base64 import b64encode\n",
        "from IPython.display import HTML\n",
        "\n",
        "video_paths = sorted([s for s in Path(\"videos\").iterdir() if s.suffix == \".mp4\"])\n",
        "video_path = video_paths[-1]  # You can also try other indices\n",
        "\n",
        "if \"google.colab\" in sys.modules:\n",
        "    # https://stackoverflow.com/a/57378660/1214547\n",
        "    with video_path.open(\"rb\") as fp:\n",
        "        mp4 = fp.read()\n",
        "    data_url = \"data:video/mp4;base64,\" + b64encode(mp4).decode()\n",
        "else:\n",
        "    data_url = str(video_path)\n",
        "\n",
        "HTML(\n",
        "    \"\"\"\n",
        "<video width=\"640\" height=\"480\" controls>\n",
        "  <source src=\"{}\" type=\"video/mp4\">\n",
        "</video>\n",
        "\"\"\".format(\n",
        "        data_url\n",
        "    )\n",
        ")\n"
      ]
    },
    {
      "cell_type": "markdown",
      "metadata": {
        "id": "6d_3oOQ1G9zN"
      },
      "source": [
        "# Homework part I\n",
        "\n",
        "### Tabular crossentropy method\n",
        "\n",
        "You may have noticed that the taxi problem quickly converges from -100 to a near-optimal score and then descends back into -50/-100. This is in part because the environment has some innate randomness. Namely, the starting points of passenger/driver change from episode to episode.\n",
        "\n",
        "### Tasks\n",
        "- __1.1__ (2 pts) Find out how the algorithm performance changes if you use a different `percentile` and/or `n_sessions`. Provide here some figures so we can see how the hyperparameters influence the performance.\n",
        "- __1.2__ (1 pts) Tune the algorithm to end up with positive average score.\n",
        "\n",
        "It's okay to modify the existing code.\n"
      ]
    },
    {
      "cell_type": "markdown",
      "metadata": {
        "id": "L88LySiVG9zN"
      },
      "source": [
        "```<Describe what you did here>```"
      ]
    },
    {
      "cell_type": "markdown",
      "metadata": {
        "id": "7LpAJc4rG9zN"
      },
      "source": [
        "# Homework part II\n",
        "\n",
        "### Deep crossentropy method\n",
        "\n",
        "By this moment, you should have got enough score on [CartPole-v0](https://gymnasium.farama.org/environments/classic_control/cart_pole/) to consider it solved (see the link). It's time to try something harder.\n",
        "\n",
        "* if you have any trouble with CartPole-v0 and feel stuck, feel free to ask us or your peers for help.\n",
        "\n",
        "### Tasks\n",
        "\n",
        "* __2.1__ (3 pts) Pick one of environments: `MountainCar-v0` or `LunarLander-v2`.\n",
        "  * For MountainCar, get average reward of __at least -150__\n",
        "  * For LunarLander, get average reward of __at least +50__\n",
        "\n",
        "See the tips section below, it's kinda important.\n",
        "__Note:__ If your agent is below the target score, you'll still get some of the points depending on the result, so don't be afraid to submit it.\n",
        "  \n",
        "  \n",
        "* __2.2__ (up to 6 pts) Devise a way to speed up training against the default version\n",
        "  * Obvious improvement: use [`joblib`](https://joblib.readthedocs.io/en/latest/). However, note that you will probably need to spawn a new environment in each of the workers instead of passing it via pickling. (2 pts)\n",
        "  * Try re-using samples from 3-5 last iterations when computing threshold and training. (2 pts)\n",
        "  * Obtain __-100__ at `MountainCar-v0` or __+200__ at `LunarLander-v2` (2 pts). Feel free to experiment with hyperparameters, architectures, schedules etc.\n",
        "  \n",
        "__Please list what you did in Anytask submission form__. This reduces probability that somebody misses something.\n",
        "  \n",
        "  \n",
        "### Tips\n",
        "* Gymnasium pages: [MountainCar](https://gymnasium.farama.org/environments/classic_control/mountain_car/), [LunarLander](https://gymnasium.farama.org/environments/box2d/lunar_lander/)\n",
        "* Sessions for MountainCar may last for 10k+ ticks. Make sure ```t_max``` param is at least 10k.\n",
        " * Also it may be a good idea to cut rewards via \">\" and not \">=\". If 90% of your sessions get reward of -10k and 10% are better, than if you use percentile 20% as threshold, R >= threshold __fails to cut off bad sessions__ while R > threshold works alright.\n",
        "* _issue with gym_: Some versions of gym limit game time by 200 ticks. This will prevent cem training in most cases. Make sure your agent is able to play for the specified __t_max__, and if it isn't, try `env = gym.make(\"MountainCar-v0\").env` or otherwise get rid of TimeLimit wrapper.\n",
        "* If you use old _swig_ lib for LunarLander-v2, you may get an error. See this [issue](https://github.com/openai/gym/issues/100) for solution.\n",
        "* If it doesn't train, it's a good idea to plot reward distribution and record sessions: they may give you some clue. If they don't, call course staff :)\n",
        "* 20-neuron network is probably not enough, feel free to experiment.\n",
        "\n",
        "You may find the following snippet useful:"
      ]
    },
    {
      "cell_type": "code",
      "execution_count": null,
      "metadata": {
        "id": "qcjz-nm_G9zN"
      },
      "outputs": [],
      "source": [
        "def visualize_mountain_car(env, agent):\n",
        "    # Compute policy for all possible x and v (with discretization)\n",
        "    xs = np.linspace(env.min_position, env.max_position, 100)\n",
        "    vs = np.linspace(-env.max_speed, env.max_speed, 100)\n",
        "\n",
        "    grid = np.dstack(np.meshgrid(xs, vs[::-1])).transpose(1, 0, 2)\n",
        "    grid_flat = grid.reshape(len(xs) * len(vs), 2)\n",
        "    probs = (\n",
        "        agent.predict_proba(grid_flat).reshape(len(xs), len(vs), 3).transpose(1, 0, 2)\n",
        "    )\n",
        "\n",
        "    # # The above code is equivalent to the following:\n",
        "    # probs = np.empty((len(vs), len(xs), 3))\n",
        "    # for i, v in enumerate(vs[::-1]):\n",
        "    #     for j, x in enumerate(xs):\n",
        "    #         probs[i, j, :] = agent.predict_proba([[x, v]])[0]\n",
        "\n",
        "    # Draw policy\n",
        "    f, ax = plt.subplots(figsize=(7, 7))\n",
        "    ax.imshow(\n",
        "        probs,\n",
        "        extent=(env.min_position, env.max_position, -env.max_speed, env.max_speed),\n",
        "        aspect=\"auto\",\n",
        "    )\n",
        "    ax.set_title(\"Learned policy: red=left, green=nothing, blue=right\")\n",
        "    ax.set_xlabel(\"position (x)\")\n",
        "    ax.set_ylabel(\"velocity (v)\")\n",
        "\n",
        "    # Sample a trajectory and draw it\n",
        "    states, actions, _ = generate_session(env, agent)\n",
        "    states = np.array(states)\n",
        "    ax.plot(states[:, 0], states[:, 1], color=\"white\")\n",
        "\n",
        "    # Draw every 3rd action from the trajectory\n",
        "    for (x, v), a in zip(states[::3], actions[::3]):\n",
        "        if a == 0:\n",
        "            plt.arrow(x, v, -0.1, 0, color=\"white\", head_length=0.02)\n",
        "        elif a == 2:\n",
        "            plt.arrow(x, v, 0.1, 0, color=\"white\", head_length=0.02)\n",
        "\n",
        "\n",
        "with gym.make(\"MountainCar-v0\", render_mode=\"rgb_arrary\").env as env:\n",
        "    visualize_mountain_car(env, agent)\n"
      ]
    },
    {
      "cell_type": "markdown",
      "metadata": {
        "id": "Dzk41lDPG9zO"
      },
      "source": [
        "### Bonus tasks\n",
        "\n",
        "* __2.3 bonus__ (2 pts) Try to find a network architecture and training params that solve __both__ environments above (_Points depend on implementation. If you attempted this task, please mention it in Anytask submission._)\n",
        "\n",
        "* __2.4 bonus__ (4 pts) Solve continuous action space task with `MLPRegressor` or similar.\n",
        "  * Since your agent only predicts the \"expected\" action, you will have to add noise to ensure exploration.\n",
        "  * Choose one of [MountainCarContinuous-v0](https://gymnasium.farama.org/environments/classic_control/mountain_car_continuous/) (90+ pts to solve), [LunarLanderContinuous-v2](https://gymnasium.farama.org/environments/box2d/lunar_lander/) (`env = gym.make(\"LunarLander-v2\", continuous=True)`)(200+ pts to solve)\n",
        "  * 4 points for solving. Slightly less for getting some results below solution threshold. Note that discrete and continuous environments may have slightly different rules, aside from action spaces."
      ]
    }
  ],
  "metadata": {
    "colab": {
      "provenance": []
    },
    "kernelspec": {
      "display_name": "Python 3",
      "language": "python",
      "name": "python3"
    },
    "language_info": {
      "codemirror_mode": {
        "name": "ipython",
        "version": 3
      },
      "file_extension": ".py",
      "mimetype": "text/x-python",
      "name": "python",
      "nbconvert_exporter": "python",
      "pygments_lexer": "ipython3",
      "version": "3.8.5"
    }
  },
  "nbformat": 4,
  "nbformat_minor": 0
}